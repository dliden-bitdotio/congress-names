{
 "cells": [
  {
   "cell_type": "markdown",
   "metadata": {},
   "source": [
    "# Generate the Distance Matrices\n",
    "For each name in the stock watchers data, we will compute the distance to each name in the propublica data (subsetted to House/Senate). First we will clean up the names a bit."
   ]
  },
  {
   "cell_type": "code",
   "execution_count": 55,
   "metadata": {},
   "outputs": [],
   "source": [
    "import os\n",
    "from dotenv import load_dotenv\n",
    "import sys\n",
    "import pandas as pd\n",
    "import jellyfish\n",
    "\n",
    "sys.path.append(\"../\")\n",
    "\n",
    "from resources.bitio_helper import download_dataset\n",
    "\n",
    "load_dotenv()\n",
    "PG_STRING = os.getenv(\"BITIO_PG_STRING\")\n",
    "USERNAME = os.getenv(\"BITIO_USERNAME\")"
   ]
  },
  {
   "cell_type": "code",
   "execution_count": 3,
   "metadata": {},
   "outputs": [],
   "source": [
    "# Download from bit.io\n",
    "propublica_data = download_dataset('\"bitdotio/congress-names\".\"propublica_names\"', PG_STRING)\n",
    "stockwatchers_data = download_dataset('\"bitdotio/congress-names\".\"stock_watchers_names\"', PG_STRING)"
   ]
  },
  {
   "cell_type": "code",
   "execution_count": 104,
   "metadata": {},
   "outputs": [],
   "source": [
    "# some basic cleaning\n",
    "## remove missing name components from propub data\n",
    "propublica_data[\"name_clean\"] = propublica_data[\"name\"].str.replace(\" nothing\", \"\")\n",
    "\n",
    "## remove honorifics, titles, etc. from SW data\n",
    "replacements = '|'.join(['^Mr. ', '^Mrs. ', '^Hon. ', '^None ', ' Honorable'])\n",
    "stockwatchers_data[\"name_clean\"] = stockwatchers_data[\"name\"].str.replace(replacements, \"\", regex=True)"
   ]
  },
  {
   "cell_type": "code",
   "execution_count": 105,
   "metadata": {},
   "outputs": [],
   "source": [
    "\n",
    "prp_house = propublica_data.loc[propublica_data.chamber == \"house\", [\"name_clean\"]].rename(columns={\"name_clean\":\"name\"})\n",
    "sw_house = stockwatchers_data.loc[stockwatchers_data.chamber == \"house\", [\"name_clean\"]].rename(columns={\"name_clean\":\"name\"})\n",
    "\n",
    "prp_senate = propublica_data.loc[propublica_data.chamber == \"senate\", [\"name_clean\"]].rename(columns={\"name_clean\":\"name\"})\n",
    "sw_senate = stockwatchers_data.loc[stockwatchers_data.chamber == \"senate\", [\"name_clean\"]].rename(columns={\"name_clean\":\"name\"})\n"
   ]
  },
  {
   "cell_type": "code",
   "execution_count": 116,
   "metadata": {},
   "outputs": [],
   "source": [
    "prp_names_house = list(prp_house[\"name\"])\n",
    "prp_names_senate = list(prp_senate[\"name\"])"
   ]
  },
  {
   "cell_type": "code",
   "execution_count": 119,
   "metadata": {},
   "outputs": [],
   "source": [
    "# helper function for getting levenshtein distance across columns\n",
    "def normalized_ld(name, candidate):\n",
    "    ld = jellyfish.levenshtein_distance(name, candidate)\n",
    "    maxlength = max([len(name), len(candidate)])\n",
    "    normalized_ld = 1-(ld/maxlength)\n",
    "    return normalized_ld\n",
    "\n",
    "def ls(name, candidates):\n",
    "    \"\"\"Calculate the normalized levenshtein distance between a name\n",
    "    and a list of candidate names\"\"\"\n",
    "    return list(map(lambda x: normalized_ld(name, x), candidates))\n",
    "\n",
    "def make_ls_matrix(names, candidates):\n",
    "    \"\"\"Given a dataframe of names and a list of candidates, return a\n",
    "    dataframe with names as rows and candidates as columns with\n",
    "    scores as values, along with columns for best match and best\n",
    "    match score\"\"\"\n",
    "    normalized_lds = names.apply(lambda x: ls(x[\"name\"], candidates), axis=1, result_type=\"expand\")\n",
    "    normalized_lds.columns = candidates\n",
    "    normalized_lds.insert(loc=0, column = \"stock_watchers_name\", value=names[\"name\"])\n",
    "    normalized_lds.insert(loc=1, column=\"closest_match\", value=normalized_lds.iloc[:,1:].idxmax(axis=1))\n",
    "    normalized_lds.insert(loc=2, column=\"closest_match_score\", value=normalized_lds.iloc[:,2:].max(axis=1))\n",
    "\n",
    "    return normalized_lds.sort_values(\"closest_match_score\", axis=0)\n"
   ]
  },
  {
   "cell_type": "code",
   "execution_count": 120,
   "metadata": {},
   "outputs": [],
   "source": [
    "house_mat = make_ls_matrix(names=sw_house, candidates=prp_names_house)\n",
    "senate_mat = make_ls_matrix(names = sw_senate, candidates=prp_names_senate)"
   ]
  },
  {
   "cell_type": "code",
   "execution_count": 183,
   "metadata": {},
   "outputs": [],
   "source": [
    "def top_n_matches(member, n=5):\n",
    "    \"\"\"Takes a row for the matching matrix generated above. Returns a new\n",
    "    matrix with the top N members and their scores.\"\"\"\n",
    "    top_matches = list(member[3:].rank().sort_values().index.values[-n:])\n",
    "    match_sub = member.loc[top_matches]\n",
    "    return match_sub\n"
   ]
  },
  {
   "cell_type": "code",
   "execution_count": 184,
   "metadata": {},
   "outputs": [
    {
     "data": {
      "text/plain": [
       "Richard M. Burr         0.230769\n",
       "Shelley Moore Capito    0.230769\n",
       "Mitt Romney             0.269231\n",
       "Michael Bennet          0.346154\n",
       "Mitch McConnell         0.538462\n",
       "Name: 6, dtype: object"
      ]
     },
     "execution_count": 184,
     "metadata": {},
     "output_type": "execute_result"
    }
   ],
   "source": [
    "top_n_matches(senate_mat.iloc[1])"
   ]
  },
  {
   "cell_type": "code",
   "execution_count": 178,
   "metadata": {},
   "outputs": [
    {
     "data": {
      "text/plain": [
       "stock_watchers_name    A. Mitchell Mcconnell, Jr.\n",
       "closest_match                     Mitch McConnell\n",
       "closest_match_score                      0.538462\n",
       "Tammy Baldwin                            0.076923\n",
       "John Barrasso                            0.076923\n",
       "                                  ...            \n",
       "Elizabeth Warren                         0.153846\n",
       "Sheldon Whitehouse                       0.153846\n",
       "Roger Wicker                             0.192308\n",
       "Ron Wyden                                0.076923\n",
       "Todd Young                               0.115385\n",
       "Name: 6, Length: 105, dtype: object"
      ]
     },
     "execution_count": 178,
     "metadata": {},
     "output_type": "execute_result"
    }
   ],
   "source": [
    "senate_mat.iloc[1]"
   ]
  },
  {
   "cell_type": "code",
   "execution_count": null,
   "metadata": {},
   "outputs": [],
   "source": []
  }
 ],
 "metadata": {
  "interpreter": {
   "hash": "239d8e15d98f37d1ec6f26e168003df65aeeaf7f60a23500a5b0325253d11184"
  },
  "kernelspec": {
   "display_name": "Python 3.9.7 ('env': venv)",
   "language": "python",
   "name": "python3"
  },
  "language_info": {
   "codemirror_mode": {
    "name": "ipython",
    "version": 3
   },
   "file_extension": ".py",
   "mimetype": "text/x-python",
   "name": "python",
   "nbconvert_exporter": "python",
   "pygments_lexer": "ipython3",
   "version": "3.9.7"
  },
  "orig_nbformat": 4
 },
 "nbformat": 4,
 "nbformat_minor": 2
}
