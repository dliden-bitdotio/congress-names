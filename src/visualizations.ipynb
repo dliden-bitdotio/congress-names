{
 "cells": [
  {
   "cell_type": "markdown",
   "metadata": {},
   "source": [
    "# Generate the Distance Matrices\n",
    "For each name in the stock watchers data, we will compute the distance to each name in the propublica data (subsetted to House/Senate). First we will clean up the names a bit."
   ]
  },
  {
   "cell_type": "code",
   "execution_count": 202,
   "metadata": {},
   "outputs": [],
   "source": [
    "import os\n",
    "from dotenv import load_dotenv\n",
    "import sys\n",
    "import pandas as pd\n",
    "import jellyfish\n",
    "import matplotlib.pyplot as plt\n",
    "import numpy as np\n",
    "sys.path.append(\"../\")\n",
    "\n",
    "from resources.bitio_helper import download_dataset\n",
    "\n",
    "load_dotenv()\n",
    "PG_STRING = os.getenv(\"BITIO_PG_STRING\")\n",
    "USERNAME = os.getenv(\"BITIO_USERNAME\")"
   ]
  },
  {
   "cell_type": "markdown",
   "metadata": {},
   "source": [
    "## Data Download and Preprocessing"
   ]
  },
  {
   "cell_type": "code",
   "execution_count": 3,
   "metadata": {},
   "outputs": [],
   "source": [
    "# Download from bit.io\n",
    "propublica_data = download_dataset('\"bitdotio/congress-names\".\"propublica_names\"', PG_STRING)\n",
    "stockwatchers_data = download_dataset('\"bitdotio/congress-names\".\"stock_watchers_names\"', PG_STRING)"
   ]
  },
  {
   "cell_type": "code",
   "execution_count": 104,
   "metadata": {},
   "outputs": [],
   "source": [
    "# some basic cleaning\n",
    "## remove missing name components from propub data\n",
    "propublica_data[\"name_clean\"] = propublica_data[\"name\"].str.replace(\" nothing\", \"\")\n",
    "\n",
    "## remove honorifics, titles, etc. from SW data\n",
    "replacements = '|'.join(['^Mr. ', '^Mrs. ', '^Hon. ', '^None ', ' Honorable'])\n",
    "stockwatchers_data[\"name_clean\"] = stockwatchers_data[\"name\"].str.replace(replacements, \"\", regex=True)"
   ]
  },
  {
   "cell_type": "code",
   "execution_count": 105,
   "metadata": {},
   "outputs": [],
   "source": [
    "prp_house = propublica_data.loc[propublica_data.chamber == \"house\", [\"name_clean\"]].rename(columns={\"name_clean\":\"name\"})\n",
    "sw_house = stockwatchers_data.loc[stockwatchers_data.chamber == \"house\", [\"name_clean\"]].rename(columns={\"name_clean\":\"name\"})\n",
    "\n",
    "prp_senate = propublica_data.loc[propublica_data.chamber == \"senate\", [\"name_clean\"]].rename(columns={\"name_clean\":\"name\"})\n",
    "sw_senate = stockwatchers_data.loc[stockwatchers_data.chamber == \"senate\", [\"name_clean\"]].rename(columns={\"name_clean\":\"name\"})\n"
   ]
  },
  {
   "cell_type": "code",
   "execution_count": 116,
   "metadata": {},
   "outputs": [],
   "source": [
    "prp_names_house = list(prp_house[\"name\"])\n",
    "prp_names_senate = list(prp_senate[\"name\"])"
   ]
  },
  {
   "cell_type": "markdown",
   "metadata": {},
   "source": [
    "## Calculate Levenshtein Distances"
   ]
  },
  {
   "cell_type": "code",
   "execution_count": 119,
   "metadata": {},
   "outputs": [],
   "source": [
    "# helper function for getting levenshtein distance across columns\n",
    "def normalized_ld(name, candidate):\n",
    "    ld = jellyfish.levenshtein_distance(name, candidate)\n",
    "    maxlength = max([len(name), len(candidate)])\n",
    "    normalized_ld = 1-(ld/maxlength)\n",
    "    return normalized_ld\n",
    "\n",
    "def ls(name, candidates):\n",
    "    \"\"\"Calculate the normalized levenshtein distance between a name\n",
    "    and a list of candidate names\"\"\"\n",
    "    return list(map(lambda x: normalized_ld(name, x), candidates))\n",
    "\n",
    "def make_ls_matrix(names, candidates):\n",
    "    \"\"\"Given a dataframe of names and a list of candidates, return a\n",
    "    dataframe with names as rows and candidates as columns with\n",
    "    scores as values, along with columns for best match and best\n",
    "    match score\"\"\"\n",
    "    normalized_lds = names.apply(lambda x: ls(x[\"name\"], candidates), axis=1, result_type=\"expand\")\n",
    "    normalized_lds.columns = candidates\n",
    "    normalized_lds.insert(loc=0, column = \"stock_watchers_name\", value=names[\"name\"])\n",
    "    normalized_lds.insert(loc=1, column=\"closest_match\", value=normalized_lds.iloc[:,1:].idxmax(axis=1))\n",
    "    normalized_lds.insert(loc=2, column=\"closest_match_score\", value=normalized_lds.iloc[:,2:].max(axis=1))\n",
    "\n",
    "    return normalized_lds.sort_values(\"closest_match_score\", axis=0)\n"
   ]
  },
  {
   "cell_type": "code",
   "execution_count": 120,
   "metadata": {},
   "outputs": [],
   "source": [
    "house_mat = make_ls_matrix(names=sw_house, candidates=prp_names_house)\n",
    "senate_mat = make_ls_matrix(names = sw_senate, candidates=prp_names_senate)"
   ]
  },
  {
   "cell_type": "markdown",
   "metadata": {},
   "source": [
    "### Get Top Matches for Visualization"
   ]
  },
  {
   "cell_type": "code",
   "execution_count": 183,
   "metadata": {},
   "outputs": [],
   "source": [
    "def top_n_matches(member, n=5):\n",
    "    \"\"\"Takes a row for the matching matrix generated above. Returns a new\n",
    "    matrix with the top N members and their scores.\"\"\"\n",
    "    top_matches = list(member[3:].rank().sort_values().index.values[-n:])\n",
    "    match_sub = member.loc[top_matches]\n",
    "    return match_sub\n"
   ]
  },
  {
   "cell_type": "code",
   "execution_count": 191,
   "metadata": {},
   "outputs": [],
   "source": [
    "list(top_n_matches(senate_mat.iloc[1], 7).index.values)\n",
    "\n",
    "prp_senate_sub = ['Mitch McConnell', 'Michael Bennet', 'Shelley Moore Capito',\n",
    "                  'Richard M. Burr', 'John Hickenlooper']\n",
    "sw_senate_sub = ['A. Mitchell Mcconnell, Jr.', 'Michael F Bennet', 'Shelley M Capito',\n",
    "                 'Richard M Burr', 'John W Hickenlooper']"
   ]
  },
  {
   "cell_type": "code",
   "execution_count": 194,
   "metadata": {},
   "outputs": [
    {
     "data": {
      "text/html": [
       "<div>\n",
       "<style scoped>\n",
       "    .dataframe tbody tr th:only-of-type {\n",
       "        vertical-align: middle;\n",
       "    }\n",
       "\n",
       "    .dataframe tbody tr th {\n",
       "        vertical-align: top;\n",
       "    }\n",
       "\n",
       "    .dataframe thead th {\n",
       "        text-align: right;\n",
       "    }\n",
       "</style>\n",
       "<table border=\"1\" class=\"dataframe\">\n",
       "  <thead>\n",
       "    <tr style=\"text-align: right;\">\n",
       "      <th></th>\n",
       "      <th>Mitch McConnell</th>\n",
       "      <th>Michael Bennet</th>\n",
       "      <th>Shelley Moore Capito</th>\n",
       "      <th>Richard M. Burr</th>\n",
       "      <th>John Hickenlooper</th>\n",
       "    </tr>\n",
       "    <tr>\n",
       "      <th>stock_watchers_name</th>\n",
       "      <th></th>\n",
       "      <th></th>\n",
       "      <th></th>\n",
       "      <th></th>\n",
       "      <th></th>\n",
       "    </tr>\n",
       "  </thead>\n",
       "  <tbody>\n",
       "    <tr>\n",
       "      <th>A. Mitchell Mcconnell, Jr.</th>\n",
       "      <td>0.538462</td>\n",
       "      <td>0.346154</td>\n",
       "      <td>0.230769</td>\n",
       "      <td>0.230769</td>\n",
       "      <td>0.230769</td>\n",
       "    </tr>\n",
       "    <tr>\n",
       "      <th>Shelley M Capito</th>\n",
       "      <td>0.125000</td>\n",
       "      <td>0.187500</td>\n",
       "      <td>0.800000</td>\n",
       "      <td>0.125000</td>\n",
       "      <td>0.058824</td>\n",
       "    </tr>\n",
       "    <tr>\n",
       "      <th>Michael F Bennet</th>\n",
       "      <td>0.375000</td>\n",
       "      <td>0.875000</td>\n",
       "      <td>0.200000</td>\n",
       "      <td>0.375000</td>\n",
       "      <td>0.117647</td>\n",
       "    </tr>\n",
       "    <tr>\n",
       "      <th>John W Hickenlooper</th>\n",
       "      <td>0.157895</td>\n",
       "      <td>0.210526</td>\n",
       "      <td>0.100000</td>\n",
       "      <td>0.105263</td>\n",
       "      <td>0.894737</td>\n",
       "    </tr>\n",
       "    <tr>\n",
       "      <th>Richard M Burr</th>\n",
       "      <td>0.200000</td>\n",
       "      <td>0.357143</td>\n",
       "      <td>0.150000</td>\n",
       "      <td>0.933333</td>\n",
       "      <td>0.058824</td>\n",
       "    </tr>\n",
       "  </tbody>\n",
       "</table>\n",
       "</div>"
      ],
      "text/plain": [
       "                            Mitch McConnell  Michael Bennet  \\\n",
       "stock_watchers_name                                           \n",
       "A. Mitchell Mcconnell, Jr.         0.538462        0.346154   \n",
       "Shelley M Capito                   0.125000        0.187500   \n",
       "Michael F Bennet                   0.375000        0.875000   \n",
       "John W Hickenlooper                0.157895        0.210526   \n",
       "Richard M Burr                     0.200000        0.357143   \n",
       "\n",
       "                            Shelley Moore Capito  Richard M. Burr  \\\n",
       "stock_watchers_name                                                 \n",
       "A. Mitchell Mcconnell, Jr.              0.230769         0.230769   \n",
       "Shelley M Capito                        0.800000         0.125000   \n",
       "Michael F Bennet                        0.200000         0.375000   \n",
       "John W Hickenlooper                     0.100000         0.105263   \n",
       "Richard M Burr                          0.150000         0.933333   \n",
       "\n",
       "                            John Hickenlooper  \n",
       "stock_watchers_name                            \n",
       "A. Mitchell Mcconnell, Jr.           0.230769  \n",
       "Shelley M Capito                     0.058824  \n",
       "Michael F Bennet                     0.117647  \n",
       "John W Hickenlooper                  0.894737  \n",
       "Richard M Burr                       0.058824  "
      ]
     },
     "execution_count": 194,
     "metadata": {},
     "output_type": "execute_result"
    }
   ],
   "source": [
    "senate_sub = (senate_mat.loc[senate_mat[\"stock_watchers_name\"].isin(sw_senate_sub), [\"stock_watchers_name\"]+prp_senate_sub]\n",
    "                .set_index(\"stock_watchers_name\"))\n",
    "senate_sub"
   ]
  },
  {
   "cell_type": "code",
   "execution_count": 203,
   "metadata": {},
   "outputs": [
    {
     "data": {
      "text/plain": [
       "(<matplotlib.image.AxesImage at 0x1427d67c0>,\n",
       " <matplotlib.colorbar.Colorbar at 0x142d67310>)"
      ]
     },
     "execution_count": 203,
     "metadata": {},
     "output_type": "execute_result"
    },
    {
     "data": {
      "image/png": "[encoded data removed]",
      "text/plain": [
       "<Figure size 432x288 with 2 Axes>"
      ]
     },
     "metadata": {
      "needs_background": "light"
     },
     "output_type": "display_data"
    }
   ],
   "source": [
    "def heatmap(data, row_labels, col_labels, ax=None,\n",
    "            cbar_kw={}, cbarlabel=\"\", **kwargs):\n",
    "    \"\"\"\n",
    "    Create a heatmap from a numpy array and two lists of labels.\n",
    "\n",
    "    Parameters\n",
    "    ----------\n",
    "    data\n",
    "        A 2D numpy array of shape (M, N).\n",
    "    row_labels\n",
    "        A list or array of length M with the labels for the rows.\n",
    "    col_labels\n",
    "        A list or array of length N with the labels for the columns.\n",
    "    ax\n",
    "        A `matplotlib.axes.Axes` instance to which the heatmap is plotted.  If\n",
    "        not provided, use current axes or create a new one.  Optional.\n",
    "    cbar_kw\n",
    "        A dictionary with arguments to `matplotlib.Figure.colorbar`.  Optional.\n",
    "    cbarlabel\n",
    "        The label for the colorbar.  Optional.\n",
    "    **kwargs\n",
    "        All other arguments are forwarded to `imshow`.\n",
    "    \"\"\"\n",
    "\n",
    "    if not ax:\n",
    "        ax = plt.gca()\n",
    "\n",
    "    # Plot the heatmap\n",
    "    im = ax.imshow(data, **kwargs)\n",
    "\n",
    "    # Create colorbar\n",
    "    cbar = ax.figure.colorbar(im, ax=ax, **cbar_kw)\n",
    "    cbar.ax.set_ylabel(cbarlabel, rotation=-90, va=\"bottom\")\n",
    "\n",
    "    # Show all ticks and label them with the respective list entries.\n",
    "    ax.set_xticks(np.arange(data.shape[1]), labels=col_labels)\n",
    "    ax.set_yticks(np.arange(data.shape[0]), labels=row_labels)\n",
    "\n",
    "    # Let the horizontal axes labeling appear on top.\n",
    "    ax.tick_params(top=True, bottom=False,\n",
    "                   labeltop=True, labelbottom=False)\n",
    "\n",
    "    # Rotate the tick labels and set their alignment.\n",
    "    plt.setp(ax.get_xticklabels(), rotation=-30, ha=\"right\",\n",
    "             rotation_mode=\"anchor\")\n",
    "\n",
    "    # Turn spines off and create white grid.\n",
    "    ax.spines[:].set_visible(False)\n",
    "\n",
    "    ax.set_xticks(np.arange(data.shape[1]+1)-.5, minor=True)\n",
    "    ax.set_yticks(np.arange(data.shape[0]+1)-.5, minor=True)\n",
    "    ax.grid(which=\"minor\", color=\"w\", linestyle='-', linewidth=3)\n",
    "    ax.tick_params(which=\"minor\", bottom=False, left=False)\n",
    "\n",
    "    return im, cbar\n",
    "\n",
    "\n",
    "def annotate_heatmap(im, data=None, valfmt=\"{x:.2f}\",\n",
    "                     textcolors=(\"black\", \"white\"),\n",
    "                     threshold=None, **textkw):\n",
    "    \"\"\"\n",
    "    A function to annotate a heatmap.\n",
    "\n",
    "    Parameters\n",
    "    ----------\n",
    "    im\n",
    "        The AxesImage to be labeled.\n",
    "    data\n",
    "        Data used to annotate.  If None, the image's data is used.  Optional.\n",
    "    valfmt\n",
    "        The format of the annotations inside the heatmap.  This should either\n",
    "        use the string format method, e.g. \"$ {x:.2f}\", or be a\n",
    "        `matplotlib.ticker.Formatter`.  Optional.\n",
    "    textcolors\n",
    "        A pair of colors.  The first is used for values below a threshold,\n",
    "        the second for those above.  Optional.\n",
    "    threshold\n",
    "        Value in data units according to which the colors from textcolors are\n",
    "        applied.  If None (the default) uses the middle of the colormap as\n",
    "        separation.  Optional.\n",
    "    **kwargs\n",
    "        All other arguments are forwarded to each call to `text` used to create\n",
    "        the text labels.\n",
    "    \"\"\"\n",
    "\n",
    "    if not isinstance(data, (list, np.ndarray)):\n",
    "        data = im.get_array()\n",
    "\n",
    "    # Normalize the threshold to the images color range.\n",
    "    if threshold is not None:\n",
    "        threshold = im.norm(threshold)\n",
    "    else:\n",
    "        threshold = im.norm(data.max())/2.\n",
    "\n",
    "    # Set default alignment to center, but allow it to be\n",
    "    # overwritten by textkw.\n",
    "    kw = dict(horizontalalignment=\"center\",\n",
    "              verticalalignment=\"center\")\n",
    "    kw.update(textkw)\n",
    "\n",
    "    # Get the formatter in case a string is supplied\n",
    "    if isinstance(valfmt, str):\n",
    "        valfmt = matplotlib.ticker.StrMethodFormatter(valfmt)\n",
    "\n",
    "    # Loop over the data and create a `Text` for each \"pixel\".\n",
    "    # Change the text's color depending on the data.\n",
    "    texts = []\n",
    "    for i in range(data.shape[0]):\n",
    "        for j in range(data.shape[1]):\n",
    "            kw.update(color=textcolors[int(im.norm(data[i, j]) > threshold)])\n",
    "            text = im.axes.text(j, i, valfmt(data[i, j], None), **kw)\n",
    "            texts.append(text)\n",
    "\n",
    "    return texts\n",
    "\n",
    "heatmap(senate_sub.values, senate_sub.index.values, senate_sub.columns.values)"
   ]
  },
  {
   "cell_type": "code",
   "execution_count": 196,
   "metadata": {},
   "outputs": [
    {
     "data": {
      "text/plain": [
       "array(['A. Mitchell Mcconnell, Jr.', 'Shelley M Capito',\n",
       "       'Michael F Bennet', 'John W Hickenlooper', 'Richard M Burr'],\n",
       "      dtype=object)"
      ]
     },
     "execution_count": 196,
     "metadata": {},
     "output_type": "execute_result"
    }
   ],
   "source": [
    "senate_sub.index.values"
   ]
  },
  {
   "cell_type": "code",
   "execution_count": null,
   "metadata": {},
   "outputs": [],
   "source": []
  }
 ],
 "metadata": {
  "interpreter": {
   "hash": "239d8e15d98f37d1ec6f26e168003df65aeeaf7f60a23500a5b0325253d11184"
  },
  "kernelspec": {
   "display_name": "Python 3.9.7 ('env': venv)",
   "language": "python",
   "name": "python3"
  },
  "language_info": {
   "codemirror_mode": {
    "name": "ipython",
    "version": 3
   },
   "file_extension": ".py",
   "mimetype": "text/x-python",
   "name": "python",
   "nbconvert_exporter": "python",
   "pygments_lexer": "ipython3",
   "version": "3.9.7"
  },
  "orig_nbformat": 4
 },
 "nbformat": 4,
 "nbformat_minor": 2
}
